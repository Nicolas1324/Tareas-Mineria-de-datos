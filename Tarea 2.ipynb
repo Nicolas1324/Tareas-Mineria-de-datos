{
 "cells": [
  {
   "cell_type": "markdown",
   "id": "d26dec40-1a85-4ccd-b7bc-1ee30e99cd27",
   "metadata": {},
   "source": [
    "<h1 style=\"color:Purple;\"><strong> Tarea 2 Mineria de datos </strong></h1>"
   ]
  },
  {
   "cell_type": "markdown",
   "id": "01a65101-b0ac-4306-b8e5-4e14ae733a8e",
   "metadata": {},
   "source": [
    "<h2 style=\"color:blue;\"> Ejercicios Diccionario</h3>"
   ]
  },
  {
   "cell_type": "markdown",
   "id": "91c461f5-7281-41c6-885c-17ff41d30e34",
   "metadata": {},
   "source": [
    "<h3 style=\"color:green;\"> Ejercicio: ¿Qué significa default? </h3>\n",
    "<h5 style=\"color:black;\"> En computación: hacer una selección automáticamente en ausencia de una elección realizada por el usuario.</h5>\n",
    "<h5 style=\"color:black;\">https://www.merriam-webster.com/dictionary/default </h5>\n",
    "    \n",
    "<h5 style=\"color:black;\"> Los valores predeterminados indican que el argumento de la función tomará ese valor si no se pasa ningún valor de argumento durante la llamada a la función. El valor predeterminado se asigna mediante el operador de asignación(=) de la forma nombrepalabra=valor. </h5>\n",
    "<h5 style=\"color:black;\">https://www.geeksforgeeks.org/default-arguments-in-python/ </h5>"
   ]
  },
  {
   "cell_type": "markdown",
   "id": "38c49065-74a4-41de-b2cf-6137d749d3f5",
   "metadata": {},
   "source": [
    "<h3 style=\"color:green;\"> Ejercicio: Defina un diccionario de al menos 4 llaves de tal manera que esas llaves sean tuplas. Acceda a cada elemento. ¿Puede hacer lo mismo para una llave que sea definida como lista o diccionario?</h3>\n",
    "<h5 style=\"color:black;\"> Si se puede hacer ya que se puede ver que en el ejemplo tenemos tuplas donde hay listas e igualmente se puede acceder a los elementos de las listas</h5>"
   ]
  },
  {
   "cell_type": "code",
   "execution_count": 16,
   "id": "e7eabc11-bbbb-42ed-b00c-21f535d5aaca",
   "metadata": {},
   "outputs": [
    {
     "name": "stdout",
     "output_type": "stream",
     "text": [
      "{'Colores': (['Negro', 'Rojo'], 'Azul'), 'Animales': ('Gato', 'Perro'), 'Calzado': (['Botas', 'Botines', 'Deportivos', 'Sandalias'], 'Crocs'), 'Numeros': ([13, 7, 21], 77, 95, 2)}\n"
     ]
    }
   ],
   "source": [
    "dic=dict([\n",
    "             ('Colores', (['Negro','Rojo'], 'Azul')),\n",
    "             ('Animales', ('Gato','Perro')),\n",
    "             ('Calzado', (['Botas','Botines','Deportivos','Sandalias'], 'Crocs')),\n",
    "             ('Numeros', ([13,7,21], 77,95,2))\n",
    "            ])\n",
    "print(dic)"
   ]
  },
  {
   "cell_type": "code",
   "execution_count": 20,
   "id": "7e34711e-f9f4-4d72-8d9c-eef10c89ac63",
   "metadata": {},
   "outputs": [
    {
     "name": "stdout",
     "output_type": "stream",
     "text": [
      "Negro\n",
      "Rojo\n",
      "Azul\n"
     ]
    }
   ],
   "source": [
    "print(my_dic['Colores'][0])\n",
    "print(my_dic['Colores'][1])\n",
    "print(my_dic['Colores'][2])"
   ]
  }
 ],
 "metadata": {
  "kernelspec": {
   "display_name": "Python 3",
   "language": "python",
   "name": "python3"
  },
  "language_info": {
   "codemirror_mode": {
    "name": "ipython",
    "version": 3
   },
   "file_extension": ".py",
   "mimetype": "text/x-python",
   "name": "python",
   "nbconvert_exporter": "python",
   "pygments_lexer": "ipython3",
   "version": "3.8.8"
  }
 },
 "nbformat": 4,
 "nbformat_minor": 5
}
